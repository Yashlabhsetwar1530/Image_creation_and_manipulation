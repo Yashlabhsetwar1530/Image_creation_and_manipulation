import cv2
import numpy as np
# Reading the above image
img1 = cv2.imread('nadal1.jpeg')
img2 = cv2.imread('nadal2.jpg')

# Create the necessary collage
import numpy as np 
combine = np.hstack((img1,img2))

# Display the required image
cv2.imshow("Collage", combine)
cv2.waitKey()
cv2.destroyAllWindows()
