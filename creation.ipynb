import cv2
import numpy as np       #importing the necessary libraries
photo = np.zeros((550, 500, 3))                #creation of 3d array   background(black)

#Most inner circle of colour WHITE
cv2.circle(photo, center=(200,200), radius=100, color=(110, 50, 50), thickness= -1)

#The outer 3 circles of GREEN, YELLOW, CYAN from inner to outer side respectively
cv2.circle(photo, (200, 200), 150, (255, 255, 0), 100)
cv2.circle(photo, (200, 200), 120, (0, 255, 255), 100)
cv2.circle(photo, (200, 200), 90, (0, 255, 0), 100)

#The 2 dots in the middle of the figure
cv2.circle(photo, center=(190,180), radius=10, color=(255,50,0), thickness=-1)
cv2.circle(photo, center=(210,180), radius=10, color=(255,50,0), thickness=-1)

#The vertical line drawn from the center of the image
cv2.line(photo, (200,200), (210,600), (50,50,255), 20)
#Figure of a smiley on the right corner of the full image:

#Face of the smiley
cv2.circle(photo, center=(360, 460), radius=80, color=(0, 0, 50), thickness= -5)

#2 eyes of the smiley
cv2.circle(photo, center=(330, 430), radius=10, color=(255, 255, 255), thickness= -1)
cv2.circle(photo, center=(390, 430), radius=10, color=(255, 255, 255), thickness= -1)

#face
cv2.circle(photo, center=(360, 480), radius=20, color=(0, 0, 0), thickness= -2)
#Final display of the image
cv2.imshow("myphoto", photo)
cv2.waitKey()
cv2.destroyAllWindows()
