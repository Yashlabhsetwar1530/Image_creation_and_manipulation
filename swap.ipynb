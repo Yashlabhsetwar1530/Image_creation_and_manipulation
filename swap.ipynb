#importing the cv2 module 
import cv2               
#Old picture of Viral Kohli 
virat = cv2.imread("virat_old.jpg")

#Display of the old image
cv2.imshow("virat_old",virat)
cv2.waitKey()
cv2.destroyAllWindows()
#New picture of Virat Kohli
kohli = cv2.imread("virat_new.jpg")

#Display of the new image
cv2.imshow("virat_new",kohli)
cv2.waitKey()
cv2.destroyAllWindows()
virat.shape                       #checking dimensions
kohli.shape                       #checking dimensions
#Assigning values to the above images
crop1 = virat
crop2 = kohli
#croping the 1st image
virat_crop = virat[90:270 , 110:340]
cv2.imshow("virat_new",virat_crop)
cv2.waitKey()
cv2.destroyAllWindows()
#croping the 2nd image
kohli_crop = kohli[10:190 , 50:200]
cv2.imshow("virat_old",kohli_crop)
cv2.waitKey()
cv2.destroyAllWindows()
#Final swap image of the task
crop1[100:280  , 225:375] = kohli_crop
cv2.imshow("virat_new_crop",crop1)
cv2.waitKey()
cv2.destroyAllWindows()
